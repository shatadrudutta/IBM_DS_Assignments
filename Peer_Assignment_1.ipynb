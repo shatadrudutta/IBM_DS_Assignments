{
 "cells": [
  {
   "cell_type": "markdown",
   "id": "54153319-24c2-4568-b50d-fe0d7834e8a1",
   "metadata": {},
   "source": [
    "# First peer graded assignment"
   ]
  },
  {
   "cell_type": "markdown",
   "id": "fad82d6e-1f6c-4424-ac57-f250fef9b0a2",
   "metadata": {},
   "source": [
    "## Hello friends, this is my first peer graded assignment in this course"
   ]
  },
  {
   "cell_type": "markdown",
   "id": "ae8c2515-ce98-4d75-a448-c1ad84d22908",
   "metadata": {},
   "source": [
    "### __List of Data science languages__"
   ]
  },
  {
   "cell_type": "markdown",
   "id": "15d309f8-b30b-469b-aded-40942be39855",
   "metadata": {},
   "source": [
    "> __Python__<br>\n",
    "> __R__<br>\n",
    "> __SQL__<br>\n",
    "> __Java__<br>"
   ]
  },
  {
   "cell_type": "markdown",
   "id": "6439ecb3-a3a5-46e0-9a1c-418656ce2bc7",
   "metadata": {},
   "source": [
    "### __List of Data science Libraries__"
   ]
  },
  {
   "cell_type": "markdown",
   "id": "f8d9382c-3d8e-4794-80ec-5dd105702d3d",
   "metadata": {},
   "source": [
    "> __NumPy__<br>\n",
    "> __Pandas__<br>\n",
    "> __Matplotlib__<br>\n",
    "> __Scikit-Learn__<br>\n",
    "> __Scipy__<br>\n",
    "> __dplyr__<br>\n",
    "> __tidyr__<br>\n",
    "> __ggplot2__<br>"
   ]
  },
  {
   "cell_type": "markdown",
   "id": "0f0a56b3-e9f4-47f0-bfaa-4bf800946103",
   "metadata": {},
   "source": [
    "### __List of Data science Tools__"
   ]
  },
  {
   "cell_type": "markdown",
   "id": "fbe85ecd-67d7-47a4-86dc-b4441ccfa16a",
   "metadata": {},
   "source": [
    "> __MySQL__<br>\n",
    "> __HDFS__<br>\n",
    "> __Kubeflow__<br>\n",
    "> __Apache Airflow__<br>\n",
    "> __Node-red__<br>\n",
    "> __Pixiwdust__<br>\n",
    "> __Production IO__<br>\n",
    "> __Jupyter Lab__<br>\n",
    "> __R Studio__<br>\n",
    "> __Apache Zeppeline__<br>\n",
    "> __Spyder__<br>\n",
    "> __Apache Spark__<br>"
   ]
  },
  {
   "cell_type": "markdown",
   "id": "ddd14a70-b624-4f0b-9121-07cac96cc477",
   "metadata": {},
   "source": [
    "### __Arithmetic Expressions__ ###"
   ]
  },
  {
   "cell_type": "markdown",
   "id": "68035b46-236b-4a19-bce7-acb3a5f431ca",
   "metadata": {},
   "source": [
    "\\begin{gather*}\n",
    "a_1=b_1+c_1\\\\\n",
    "a_2=b_2+c_2-d_2+e_2\n",
    "\\end{gather*}\n"
   ]
  },
  {
   "cell_type": "markdown",
   "id": "fc2927fb-c51d-4f5f-a58e-9b3326a10ac5",
   "metadata": {},
   "source": [
    "\n",
    "#### List of Arithmetic signs ####"
   ]
  },
  {
   "cell_type": "markdown",
   "id": "f9d16cac-6c81-48ab-b40c-909c7189104a",
   "metadata": {},
   "source": [
    "$+$ <br>\n",
    "$-$ <br>"
   ]
  },
  {
   "cell_type": "markdown",
   "id": "c9856206-e3e6-49c9-a002-14b3301bc2e0",
   "metadata": {},
   "source": [
    "## Create a code cell to multiply and add numbers ##"
   ]
  },
  {
   "cell_type": "code",
   "execution_count": 5,
   "id": "eacd12d5-ab7d-423c-9145-5a3b2eb75034",
   "metadata": {},
   "outputs": [
    {
     "name": "stdout",
     "output_type": "stream",
     "text": [
      "3\n"
     ]
    }
   ],
   "source": [
    "a = 1\n",
    "b = 2\n",
    "print (a+b)"
   ]
  },
  {
   "cell_type": "code",
   "execution_count": 6,
   "id": "823db727-0e9d-4b28-91e4-e036eec47a52",
   "metadata": {},
   "outputs": [
    {
     "name": "stdout",
     "output_type": "stream",
     "text": [
      "12\n"
     ]
    }
   ],
   "source": [
    "a = 3\n",
    "b = 4\n",
    "print (a*b)"
   ]
  },
  {
   "cell_type": "markdown",
   "id": "342e343b-1dfa-496d-8766-66100cd68684",
   "metadata": {},
   "source": [
    "## Create a code cell to convert minutes to hours ##"
   ]
  },
  {
   "cell_type": "code",
   "execution_count": 14,
   "id": "56e6d102-94c9-4644-a57f-f4421f5471d5",
   "metadata": {},
   "outputs": [
    {
     "name": "stdout",
     "output_type": "stream",
     "text": [
      "320 minutes in hours = 5.333333333333333\n"
     ]
    }
   ],
   "source": [
    "minute = 320\n",
    "hour = minute/60\n",
    "print (str(minute) + ' minutes in hours = ' + str(hour))"
   ]
  },
  {
   "cell_type": "markdown",
   "id": "8d306ab1-86d4-4b5c-9e68-7bee9cb2f09c",
   "metadata": {},
   "source": [
    "## Insert a markdown cell to list Objectives ##"
   ]
  },
  {
   "cell_type": "markdown",
   "id": "cc58219d-0527-49a6-b689-7ad306986d8f",
   "metadata": {},
   "source": [
    "> __Learn data science concepts and tools__<br>\n",
    "> __Apply the same in day to day work__<br>\n",
    "> __Through peer assignments learn from others__<br>\n",
    "> __Understand application of Data science in various industries__<br>\n"
   ]
  },
  {
   "cell_type": "markdown",
   "id": "2ac39678-e372-4ebf-8bf0-5a6c709bf184",
   "metadata": {},
   "source": [
    "## Create a markdown cell to indicate the Author’s name ##"
   ]
  },
  {
   "cell_type": "markdown",
   "id": "62b1a9da-a2f0-445d-926c-71bc82ac4522",
   "metadata": {},
   "source": [
    "### Author Name : Shatadru Dutta ###"
   ]
  },
  {
   "cell_type": "code",
   "execution_count": null,
   "id": "ec3aa9c7-4368-489a-8e84-df2b9aa0999b",
   "metadata": {},
   "outputs": [],
   "source": []
  }
 ],
 "metadata": {
  "kernelspec": {
   "display_name": "Python 3 (ipykernel)",
   "language": "python",
   "name": "python3"
  },
  "language_info": {
   "codemirror_mode": {
    "name": "ipython",
    "version": 3
   },
   "file_extension": ".py",
   "mimetype": "text/x-python",
   "name": "python",
   "nbconvert_exporter": "python",
   "pygments_lexer": "ipython3",
   "version": "3.10.9"
  }
 },
 "nbformat": 4,
 "nbformat_minor": 5
}
